{
 "cells": [
  {
   "cell_type": "markdown",
   "id": "e3b38d56",
   "metadata": {},
   "source": [
    "#  Big Data Coursework Individual Assignment: Accident Severity Prediction"
   ]
  },
  {
   "cell_type": "markdown",
   "id": "c1eac117",
   "metadata": {},
   "source": [
    "## Candidate Number: 418207\n",
    "\n"
   ]
  },
  {
   "cell_type": "markdown",
   "id": "907f78ae",
   "metadata": {},
   "source": [
    "## Contents\n",
    "\n",
    "1. Introduction and Business Objective\n",
    "2. Importing libraries\n",
    "3. Importing Trainset and Testset\n",
    "4. Baseline Model\n",
    "5. Hyperparameter Tuning\n",
    "5. Training and Testing of models\n",
    "6. Comparison of results and Conclusion\n",
    "7. Possible future imporvements"
   ]
  },
  {
   "cell_type": "markdown",
   "id": "f9d44afb",
   "metadata": {},
   "source": [
    "## 1. Introduction and Business Objective"
   ]
  },
  {
   "cell_type": "markdown",
   "id": "aa8d73bf",
   "metadata": {},
   "source": [
    "A Car insurance company aims to predict the severity of an accident based on the features of the car and other characterstics of the customer. The prediction will help the company categorise users based on the chances of the customer being involved in severe accidents and helps them in further decision making like identifying high risk/low risk customers and offering a customized insurance premium to them.\n",
    "We will be developing a predictive model for the company which will help them predict the accident severity.\n",
    "Accident and Vehicle datasets for the year 2020 ( https://data.gov.uk/dataset/cb7ae6f0-4be6-4935-9277-47e5ce24a11f/road-safety-data ) was used for the analysis and training the model. Accident Index column was used to merge these 2 datasets. \n",
    "\n",
    "In the group assignment part of the coursework, we have loaded the data,performed the initial EDA and cleaned the data. And now in the individual part, I will be building several ML models and will compare the results for the same."
   ]
  },
  {
   "cell_type": "markdown",
   "id": "c2233503",
   "metadata": {},
   "source": [
    "## 2. Importing Libraries"
   ]
  },
  {
   "cell_type": "code",
   "execution_count": null,
   "id": "af6e4201",
   "metadata": {},
   "outputs": [],
   "source": [
    "# setting logging to print only error messages of sklearnex\n",
    "import logging\n",
    "logging.basicConfig()\n",
    "logging.getLogger(\"SKLEARNEX\").setLevel(logging.ERROR)\n",
    "\n",
    "import time\n",
    "import pandas as pd\n",
    "import numpy as np\n",
    "import matplotlib.pyplot as plt\n",
    "import warnings\n",
    "warnings.filterwarnings('ignore')\n",
    "from sklearn.model_selection import GridSearchCV\n",
    "from sklearn.ensemble import RandomForestClassifier\n",
    "from sklearn.svm import LinearSVC\n",
    "from sklearn import preprocessing\n",
    "from sklearn.linear_model import LogisticRegression"
   ]
  },
  {
   "cell_type": "markdown",
   "id": "de5938e3",
   "metadata": {},
   "source": [
    "## 3. Importing  Trainset and Testset"
   ]
  },
  {
   "cell_type": "code",
   "execution_count": 81,
   "id": "0c5ce9f0",
   "metadata": {},
   "outputs": [],
   "source": [
    "trainset=pd.read_excel(\"trainset.xlsx\")\n",
    "testset=pd.read_excel(\"testset.xlsx\")"
   ]
  },
  {
   "cell_type": "markdown",
   "id": "8b9e66db",
   "metadata": {},
   "source": [
    "Now we will explore the trainset and have a look at the predictors and target variable."
   ]
  },
  {
   "cell_type": "code",
   "execution_count": 82,
   "id": "6366f2c7",
   "metadata": {},
   "outputs": [
    {
     "data": {
      "text/html": [
       "<div>\n",
       "<style scoped>\n",
       "    .dataframe tbody tr th:only-of-type {\n",
       "        vertical-align: middle;\n",
       "    }\n",
       "\n",
       "    .dataframe tbody tr th {\n",
       "        vertical-align: top;\n",
       "    }\n",
       "\n",
       "    .dataframe thead th {\n",
       "        text-align: right;\n",
       "    }\n",
       "</style>\n",
       "<table border=\"1\" class=\"dataframe\">\n",
       "  <thead>\n",
       "    <tr style=\"text-align: right;\">\n",
       "      <th></th>\n",
       "      <th>accident_severity</th>\n",
       "      <th>age_of_driver</th>\n",
       "      <th>engine_capacity_cc</th>\n",
       "      <th>age_of_vehicle</th>\n",
       "      <th>Male</th>\n",
       "      <th>Other_gender</th>\n",
       "      <th>Hybrid</th>\n",
       "      <th>Petrol</th>\n",
       "      <th>Small town</th>\n",
       "      <th>Urban area</th>\n",
       "      <th>...</th>\n",
       "      <th>Less deprived 20-30%</th>\n",
       "      <th>Less deprived 30-40%</th>\n",
       "      <th>Less deprived 40-50%</th>\n",
       "      <th>More deprived 10-20%</th>\n",
       "      <th>More deprived 20-30%</th>\n",
       "      <th>More deprived 30-40%</th>\n",
       "      <th>More deprived 40-50%</th>\n",
       "      <th>Most deprived 10%</th>\n",
       "      <th>South-east</th>\n",
       "      <th>South-west</th>\n",
       "    </tr>\n",
       "  </thead>\n",
       "  <tbody>\n",
       "    <tr>\n",
       "      <th>0</th>\n",
       "      <td>Slight</td>\n",
       "      <td>0.412127</td>\n",
       "      <td>0.741336</td>\n",
       "      <td>-0.691722</td>\n",
       "      <td>0.813304</td>\n",
       "      <td>-0.101283</td>\n",
       "      <td>-0.177254</td>\n",
       "      <td>-1.161703</td>\n",
       "      <td>-0.316214</td>\n",
       "      <td>0.507903</td>\n",
       "      <td>...</td>\n",
       "      <td>-0.310466</td>\n",
       "      <td>-0.318494</td>\n",
       "      <td>-0.336683</td>\n",
       "      <td>2.735798</td>\n",
       "      <td>-0.358937</td>\n",
       "      <td>-0.346379</td>\n",
       "      <td>-0.34289</td>\n",
       "      <td>-0.362167</td>\n",
       "      <td>1.040600</td>\n",
       "      <td>-0.39126</td>\n",
       "    </tr>\n",
       "    <tr>\n",
       "      <th>1</th>\n",
       "      <td>Slight</td>\n",
       "      <td>1.523121</td>\n",
       "      <td>-1.655100</td>\n",
       "      <td>-0.502011</td>\n",
       "      <td>0.813304</td>\n",
       "      <td>-0.101283</td>\n",
       "      <td>-0.177254</td>\n",
       "      <td>0.860805</td>\n",
       "      <td>-0.316214</td>\n",
       "      <td>0.507903</td>\n",
       "      <td>...</td>\n",
       "      <td>-0.310466</td>\n",
       "      <td>-0.318494</td>\n",
       "      <td>-0.336683</td>\n",
       "      <td>-0.365524</td>\n",
       "      <td>-0.358937</td>\n",
       "      <td>2.887012</td>\n",
       "      <td>-0.34289</td>\n",
       "      <td>-0.362167</td>\n",
       "      <td>1.040600</td>\n",
       "      <td>-0.39126</td>\n",
       "    </tr>\n",
       "    <tr>\n",
       "      <th>2</th>\n",
       "      <td>Slight</td>\n",
       "      <td>1.113006</td>\n",
       "      <td>0.006316</td>\n",
       "      <td>1.015675</td>\n",
       "      <td>0.813304</td>\n",
       "      <td>-0.101283</td>\n",
       "      <td>-0.177254</td>\n",
       "      <td>0.860805</td>\n",
       "      <td>-0.316214</td>\n",
       "      <td>0.507903</td>\n",
       "      <td>...</td>\n",
       "      <td>-0.310466</td>\n",
       "      <td>-0.318494</td>\n",
       "      <td>-0.336683</td>\n",
       "      <td>-0.365524</td>\n",
       "      <td>-0.358937</td>\n",
       "      <td>-0.346379</td>\n",
       "      <td>-0.34289</td>\n",
       "      <td>-0.362167</td>\n",
       "      <td>1.040600</td>\n",
       "      <td>-0.39126</td>\n",
       "    </tr>\n",
       "    <tr>\n",
       "      <th>3</th>\n",
       "      <td>Serious</td>\n",
       "      <td>-1.688507</td>\n",
       "      <td>0.006316</td>\n",
       "      <td>-0.502011</td>\n",
       "      <td>-1.229553</td>\n",
       "      <td>-0.101283</td>\n",
       "      <td>-0.177254</td>\n",
       "      <td>-1.161703</td>\n",
       "      <td>-0.316214</td>\n",
       "      <td>-1.968879</td>\n",
       "      <td>...</td>\n",
       "      <td>-0.310466</td>\n",
       "      <td>-0.318494</td>\n",
       "      <td>-0.336683</td>\n",
       "      <td>-0.365524</td>\n",
       "      <td>-0.358937</td>\n",
       "      <td>-0.346379</td>\n",
       "      <td>-0.34289</td>\n",
       "      <td>-0.362167</td>\n",
       "      <td>-0.960984</td>\n",
       "      <td>-0.39126</td>\n",
       "    </tr>\n",
       "    <tr>\n",
       "      <th>4</th>\n",
       "      <td>Slight</td>\n",
       "      <td>-0.200150</td>\n",
       "      <td>-1.655100</td>\n",
       "      <td>-1.640276</td>\n",
       "      <td>-1.229553</td>\n",
       "      <td>-0.101283</td>\n",
       "      <td>-0.177254</td>\n",
       "      <td>0.860805</td>\n",
       "      <td>-0.316214</td>\n",
       "      <td>0.507903</td>\n",
       "      <td>...</td>\n",
       "      <td>-0.310466</td>\n",
       "      <td>-0.318494</td>\n",
       "      <td>-0.336683</td>\n",
       "      <td>-0.365524</td>\n",
       "      <td>-0.358937</td>\n",
       "      <td>-0.346379</td>\n",
       "      <td>-0.34289</td>\n",
       "      <td>-0.362167</td>\n",
       "      <td>1.040600</td>\n",
       "      <td>-0.39126</td>\n",
       "    </tr>\n",
       "  </tbody>\n",
       "</table>\n",
       "<p>5 rows × 21 columns</p>\n",
       "</div>"
      ],
      "text/plain": [
       "  accident_severity  age_of_driver  engine_capacity_cc  age_of_vehicle  \\\n",
       "0            Slight       0.412127            0.741336       -0.691722   \n",
       "1            Slight       1.523121           -1.655100       -0.502011   \n",
       "2            Slight       1.113006            0.006316        1.015675   \n",
       "3           Serious      -1.688507            0.006316       -0.502011   \n",
       "4            Slight      -0.200150           -1.655100       -1.640276   \n",
       "\n",
       "       Male  Other_gender    Hybrid    Petrol  Small town  Urban area  ...  \\\n",
       "0  0.813304     -0.101283 -0.177254 -1.161703   -0.316214    0.507903  ...   \n",
       "1  0.813304     -0.101283 -0.177254  0.860805   -0.316214    0.507903  ...   \n",
       "2  0.813304     -0.101283 -0.177254  0.860805   -0.316214    0.507903  ...   \n",
       "3 -1.229553     -0.101283 -0.177254 -1.161703   -0.316214   -1.968879  ...   \n",
       "4 -1.229553     -0.101283 -0.177254  0.860805   -0.316214    0.507903  ...   \n",
       "\n",
       "   Less deprived 20-30%  Less deprived 30-40%  Less deprived 40-50%  \\\n",
       "0             -0.310466             -0.318494             -0.336683   \n",
       "1             -0.310466             -0.318494             -0.336683   \n",
       "2             -0.310466             -0.318494             -0.336683   \n",
       "3             -0.310466             -0.318494             -0.336683   \n",
       "4             -0.310466             -0.318494             -0.336683   \n",
       "\n",
       "   More deprived 10-20%  More deprived 20-30%  More deprived 30-40%  \\\n",
       "0              2.735798             -0.358937             -0.346379   \n",
       "1             -0.365524             -0.358937              2.887012   \n",
       "2             -0.365524             -0.358937             -0.346379   \n",
       "3             -0.365524             -0.358937             -0.346379   \n",
       "4             -0.365524             -0.358937             -0.346379   \n",
       "\n",
       "   More deprived 40-50%  Most deprived 10%  South-east  South-west  \n",
       "0              -0.34289          -0.362167    1.040600    -0.39126  \n",
       "1              -0.34289          -0.362167    1.040600    -0.39126  \n",
       "2              -0.34289          -0.362167    1.040600    -0.39126  \n",
       "3              -0.34289          -0.362167   -0.960984    -0.39126  \n",
       "4              -0.34289          -0.362167    1.040600    -0.39126  \n",
       "\n",
       "[5 rows x 21 columns]"
      ]
     },
     "execution_count": 82,
     "metadata": {},
     "output_type": "execute_result"
    }
   ],
   "source": [
    "trainset.head()"
   ]
  },
  {
   "cell_type": "markdown",
   "id": "3db5b50b",
   "metadata": {},
   "source": [
    "Here accident_severity is the target variable and the other attributes are all scaled. Now we will also check if our data is balanced or unbalanced by checking the count of different classes in accident_severity column using value_counts()."
   ]
  },
  {
   "cell_type": "code",
   "execution_count": 84,
   "id": "cf97ee71",
   "metadata": {},
   "outputs": [
    {
     "data": {
      "text/plain": [
       "Slight     50365\n",
       "Serious    10733\n",
       "Fatal        848\n",
       "Name: accident_severity, dtype: int64"
      ]
     },
     "execution_count": 84,
     "metadata": {},
     "output_type": "execute_result"
    }
   ],
   "source": [
    "# Using value_counts to find the count of different class in accident_severity\n",
    "trainset[\"accident_severity\"].value_counts()"
   ]
  },
  {
   "cell_type": "code",
   "execution_count": 85,
   "id": "3cb04e5f",
   "metadata": {},
   "outputs": [
    {
     "data": {
      "text/plain": [
       "<AxesSubplot:ylabel='Type'>"
      ]
     },
     "execution_count": 85,
     "metadata": {},
     "output_type": "execute_result"
    },
    {
     "data": {
      "image/png": "[encoded data removed]",
      "text/plain": [
       "<Figure size 432x288 with 1 Axes>"
      ]
     },
     "metadata": {},
     "output_type": "display_data"
    }
   ],
   "source": [
    "# Plotting a pie chart to show the distribution of the different classes.\n",
    "trainset.groupby('accident_severity').size().plot(kind='pie', y = \"v1\",label = \"Type\",autopct='%1.1f%%')"
   ]
  },
  {
   "cell_type": "markdown",
   "id": "caf0253e",
   "metadata": {},
   "source": [
    "After checking the values for each class in accident_severity column, we can see that the trainset data is highly unbalanced. Around 81% of the trainset data comprises of Slight severity accidents. Therefore to make the training more effective we will be performing oversampling for the Serious and Fatal types after creating the baseline model."
   ]
  },
  {
   "cell_type": "markdown",
   "id": "f005b16f",
   "metadata": {},
   "source": [
    "## 4. Baseline Model\n",
    "\n",
    "Here we will be using the majority class classifier as a baseline since its a classification problem. We will find out the  most common class label (Mode) in the training set and always output it as a prediction.\n"
   ]
  },
  {
   "cell_type": "code",
   "execution_count": 83,
   "id": "e394d767",
   "metadata": {},
   "outputs": [
    {
     "data": {
      "text/plain": [
       "Slight     50365\n",
       "Serious    10733\n",
       "Fatal        848\n",
       "Name: accident_severity, dtype: int64"
      ]
     },
     "execution_count": 83,
     "metadata": {},
     "output_type": "execute_result"
    }
   ],
   "source": [
    "# Using value_counts to find the count of different class in accident_severity\n",
    "trainset[\"accident_severity\"].value_counts()"
   ]
  },
  {
   "cell_type": "code",
   "execution_count": 8,
   "id": "b57a0142",
   "metadata": {},
   "outputs": [
    {
     "data": {
      "text/plain": [
       "61946"
      ]
     },
     "execution_count": 8,
     "metadata": {},
     "output_type": "execute_result"
    }
   ],
   "source": [
    "# total size of the training set\n",
    "trainset.shape[0]"
   ]
  },
  {
   "cell_type": "markdown",
   "id": "bd33b33a",
   "metadata": {},
   "source": [
    "The baseline classifier will output \"Slight\" for all predictions since that is the majority class. We will use macro-averaging here where we will calculate precision, recall and F-score for each class separately and then it will be averaged across all classes.\n",
    "\n",
    "So when we apply the baseline classifier to all of the training set.\n",
    "\n",
    "For the \"Slight\" label, the accuracy measures will be:\n",
    "\n",
    "    Precision: 50365/61946 = 0.813\n",
    "\n",
    "    Recall: 50365/50365 = 1.0\n",
    "\n",
    "    F-score: 2/(1/precision + 1/recall) = 0.896\n",
    "\n",
    "For the \"Serious\" label, it will be:\n",
    "\n",
    "    Precision: 0.0/0.0 = 0.0\n",
    "\n",
    "    Recall: 0.0/10733 = 0.0\n",
    "\n",
    "    F-score: 0.0\n",
    "    \n",
    "For the \"Fatal\" label, it will be:\n",
    "\n",
    "    Precision: 0.0/0.0 = 0.0\n",
    "\n",
    "    Recall: 0.0/848 = 0.0\n",
    "\n",
    "    F-score: 0.0\n",
    "\n",
    "The averages of the 3 classes, i.e. the eventual baseline scores:\n",
    "\n",
    "    Precision: 0.271\n",
    "\n",
    "    Recall: 0.333\n",
    "\n",
    "    F-score: 0.298\n",
    "\n"
   ]
  },
  {
   "cell_type": "markdown",
   "id": "1a900c42",
   "metadata": {},
   "source": [
    "### Oversampling of data\n",
    "\n",
    "Since the target variable is highly unbalanced, it is most likely to impact the performance of our models. Hence to improve the training models, we will be performing oversampling of data here. Oversampling basically means that we will be duplicating samples of data from the minority classes. In the current situation, we will be oversampling for the serious and fatal severity classes."
   ]
  },
  {
   "cell_type": "code",
   "execution_count": 86,
   "id": "f178e13c",
   "metadata": {},
   "outputs": [],
   "source": [
    "# Copying the data for different severity classes into a new dataframes\n",
    "slight_severity=trainset[trainset[\"accident_severity\"]==\"Slight\"]\n",
    "serious_severity=trainset[trainset[\"accident_severity\"]==\"Serious\"]\n",
    "fatal_severity=trainset[trainset[\"accident_severity\"]==\"Fatal\"]"
   ]
  },
  {
   "cell_type": "code",
   "execution_count": 87,
   "id": "a3e936b4",
   "metadata": {},
   "outputs": [
    {
     "name": "stdout",
     "output_type": "stream",
     "text": [
      "(50365, 21)\n",
      "(10733, 21)\n",
      "(848, 21)\n"
     ]
    }
   ],
   "source": [
    "# Printing the shape of each new dataframe\n",
    "print(slight_severity.shape)\n",
    "print(serious_severity.shape)\n",
    "print(fatal_severity.shape)"
   ]
  },
  {
   "cell_type": "markdown",
   "id": "ebf8a5b9",
   "metadata": {},
   "source": [
    "For performing oversampling, we will be using resample function from sklearn.utils. We will have to pass the class which we want to upsample and the amount to which we want to upsample as parameters here.\n",
    "Below, I performed the oversampling for fatal_severity."
   ]
  },
  {
   "cell_type": "code",
   "execution_count": 89,
   "id": "bc778930",
   "metadata": {},
   "outputs": [
    {
     "name": "stdout",
     "output_type": "stream",
     "text": [
      "(50365, 21)\n"
     ]
    }
   ],
   "source": [
    "# Importing resample function from sklearn and performing upsampling\n",
    "from sklearn.utils import resample\n",
    "fatal_severity_upsample = resample(fatal_severity,\n",
    "             replace=True,\n",
    "             n_samples=len(slight_severity),\n",
    "             random_state=42)\n",
    "\n",
    "# printing the shape of the upsampled dataframe\n",
    "print(fatal_severity_upsample.shape)"
   ]
  },
  {
   "cell_type": "markdown",
   "id": "26c940fb",
   "metadata": {},
   "source": [
    "Similarly, we will perform upsampling for the serious_severity dataframe as well. We will upsample it to the same level as slight_severity class."
   ]
  },
  {
   "cell_type": "code",
   "execution_count": 90,
   "id": "1ade7728",
   "metadata": {},
   "outputs": [
    {
     "name": "stdout",
     "output_type": "stream",
     "text": [
      "(50365, 21)\n"
     ]
    }
   ],
   "source": [
    "# performing upsampling for serious_severity and them printing the shape of the new dataframe\n",
    "serious_severity_upsample = resample(serious_severity,\n",
    "             replace=True,\n",
    "             n_samples=len(slight_severity),\n",
    "             random_state=42)\n",
    "\n",
    "print(serious_severity_upsample.shape)"
   ]
  },
  {
   "cell_type": "code",
   "execution_count": 91,
   "id": "c1be5146",
   "metadata": {},
   "outputs": [
    {
     "name": "stdout",
     "output_type": "stream",
     "text": [
      "(50365, 21)\n",
      "(50365, 21)\n",
      "(50365, 21)\n"
     ]
    }
   ],
   "source": [
    "# Printing the shape of the 3 dataframes for each class\n",
    "print(slight_severity.shape)\n",
    "print(serious_severity_upsample.shape)\n",
    "print(fatal_severity_upsample.shape)"
   ]
  },
  {
   "cell_type": "code",
   "execution_count": 92,
   "id": "0dc698c4",
   "metadata": {},
   "outputs": [
    {
     "data": {
      "text/html": [
       "<div>\n",
       "<style scoped>\n",
       "    .dataframe tbody tr th:only-of-type {\n",
       "        vertical-align: middle;\n",
       "    }\n",
       "\n",
       "    .dataframe tbody tr th {\n",
       "        vertical-align: top;\n",
       "    }\n",
       "\n",
       "    .dataframe thead th {\n",
       "        text-align: right;\n",
       "    }\n",
       "</style>\n",
       "<table border=\"1\" class=\"dataframe\">\n",
       "  <thead>\n",
       "    <tr style=\"text-align: right;\">\n",
       "      <th></th>\n",
       "      <th>accident_severity</th>\n",
       "      <th>age_of_driver</th>\n",
       "      <th>engine_capacity_cc</th>\n",
       "      <th>age_of_vehicle</th>\n",
       "      <th>Male</th>\n",
       "      <th>Other_gender</th>\n",
       "      <th>Hybrid</th>\n",
       "      <th>Petrol</th>\n",
       "      <th>Small town</th>\n",
       "      <th>Urban area</th>\n",
       "      <th>...</th>\n",
       "      <th>Less deprived 20-30%</th>\n",
       "      <th>Less deprived 30-40%</th>\n",
       "      <th>Less deprived 40-50%</th>\n",
       "      <th>More deprived 10-20%</th>\n",
       "      <th>More deprived 20-30%</th>\n",
       "      <th>More deprived 30-40%</th>\n",
       "      <th>More deprived 40-50%</th>\n",
       "      <th>Most deprived 10%</th>\n",
       "      <th>South-east</th>\n",
       "      <th>South-west</th>\n",
       "    </tr>\n",
       "  </thead>\n",
       "  <tbody>\n",
       "    <tr>\n",
       "      <th>41825</th>\n",
       "      <td>Serious</td>\n",
       "      <td>0.000206</td>\n",
       "      <td>-1.004574</td>\n",
       "      <td>-1.640276</td>\n",
       "      <td>0.813304</td>\n",
       "      <td>-0.101283</td>\n",
       "      <td>-0.177254</td>\n",
       "      <td>0.860805</td>\n",
       "      <td>-0.316214</td>\n",
       "      <td>0.507903</td>\n",
       "      <td>...</td>\n",
       "      <td>-0.310466</td>\n",
       "      <td>-0.318494</td>\n",
       "      <td>-0.336683</td>\n",
       "      <td>-0.365524</td>\n",
       "      <td>-0.358937</td>\n",
       "      <td>-0.346379</td>\n",
       "      <td>-0.342890</td>\n",
       "      <td>2.761154</td>\n",
       "      <td>1.040600</td>\n",
       "      <td>-0.391260</td>\n",
       "    </tr>\n",
       "    <tr>\n",
       "      <th>4751</th>\n",
       "      <td>Serious</td>\n",
       "      <td>-1.119352</td>\n",
       "      <td>-0.018062</td>\n",
       "      <td>1.774519</td>\n",
       "      <td>0.813304</td>\n",
       "      <td>-0.101283</td>\n",
       "      <td>-0.177254</td>\n",
       "      <td>0.860805</td>\n",
       "      <td>3.162418</td>\n",
       "      <td>-1.968879</td>\n",
       "      <td>...</td>\n",
       "      <td>-0.310466</td>\n",
       "      <td>-0.318494</td>\n",
       "      <td>-0.336683</td>\n",
       "      <td>-0.365524</td>\n",
       "      <td>-0.358937</td>\n",
       "      <td>-0.346379</td>\n",
       "      <td>2.916384</td>\n",
       "      <td>-0.362167</td>\n",
       "      <td>-0.960984</td>\n",
       "      <td>2.555845</td>\n",
       "    </tr>\n",
       "    <tr>\n",
       "      <th>30945</th>\n",
       "      <td>Serious</td>\n",
       "      <td>-0.131518</td>\n",
       "      <td>0.006316</td>\n",
       "      <td>-0.312300</td>\n",
       "      <td>-1.229553</td>\n",
       "      <td>-0.101283</td>\n",
       "      <td>-0.177254</td>\n",
       "      <td>-1.161703</td>\n",
       "      <td>3.162418</td>\n",
       "      <td>-1.968879</td>\n",
       "      <td>...</td>\n",
       "      <td>3.220961</td>\n",
       "      <td>-0.318494</td>\n",
       "      <td>-0.336683</td>\n",
       "      <td>-0.365524</td>\n",
       "      <td>-0.358937</td>\n",
       "      <td>-0.346379</td>\n",
       "      <td>-0.342890</td>\n",
       "      <td>-0.362167</td>\n",
       "      <td>-0.960984</td>\n",
       "      <td>2.555845</td>\n",
       "    </tr>\n",
       "    <tr>\n",
       "      <th>29819</th>\n",
       "      <td>Serious</td>\n",
       "      <td>0.412127</td>\n",
       "      <td>0.006316</td>\n",
       "      <td>0.256832</td>\n",
       "      <td>-1.229553</td>\n",
       "      <td>-0.101283</td>\n",
       "      <td>-0.177254</td>\n",
       "      <td>0.860805</td>\n",
       "      <td>-0.316214</td>\n",
       "      <td>0.507903</td>\n",
       "      <td>...</td>\n",
       "      <td>-0.310466</td>\n",
       "      <td>-0.318494</td>\n",
       "      <td>-0.336683</td>\n",
       "      <td>-0.365524</td>\n",
       "      <td>-0.358937</td>\n",
       "      <td>-0.346379</td>\n",
       "      <td>-0.342890</td>\n",
       "      <td>2.761154</td>\n",
       "      <td>1.040600</td>\n",
       "      <td>-0.391260</td>\n",
       "    </tr>\n",
       "    <tr>\n",
       "      <th>33126</th>\n",
       "      <td>Serious</td>\n",
       "      <td>-1.019897</td>\n",
       "      <td>0.741336</td>\n",
       "      <td>-1.071144</td>\n",
       "      <td>0.813304</td>\n",
       "      <td>-0.101283</td>\n",
       "      <td>-0.177254</td>\n",
       "      <td>-1.161703</td>\n",
       "      <td>-0.316214</td>\n",
       "      <td>0.507903</td>\n",
       "      <td>...</td>\n",
       "      <td>-0.310466</td>\n",
       "      <td>-0.318494</td>\n",
       "      <td>-0.336683</td>\n",
       "      <td>-0.365524</td>\n",
       "      <td>2.786003</td>\n",
       "      <td>-0.346379</td>\n",
       "      <td>-0.342890</td>\n",
       "      <td>-0.362167</td>\n",
       "      <td>1.040600</td>\n",
       "      <td>-0.391260</td>\n",
       "    </tr>\n",
       "  </tbody>\n",
       "</table>\n",
       "<p>5 rows × 21 columns</p>\n",
       "</div>"
      ],
      "text/plain": [
       "      accident_severity  age_of_driver  engine_capacity_cc  age_of_vehicle  \\\n",
       "41825           Serious       0.000206           -1.004574       -1.640276   \n",
       "4751            Serious      -1.119352           -0.018062        1.774519   \n",
       "30945           Serious      -0.131518            0.006316       -0.312300   \n",
       "29819           Serious       0.412127            0.006316        0.256832   \n",
       "33126           Serious      -1.019897            0.741336       -1.071144   \n",
       "\n",
       "           Male  Other_gender    Hybrid    Petrol  Small town  Urban area  \\\n",
       "41825  0.813304     -0.101283 -0.177254  0.860805   -0.316214    0.507903   \n",
       "4751   0.813304     -0.101283 -0.177254  0.860805    3.162418   -1.968879   \n",
       "30945 -1.229553     -0.101283 -0.177254 -1.161703    3.162418   -1.968879   \n",
       "29819 -1.229553     -0.101283 -0.177254  0.860805   -0.316214    0.507903   \n",
       "33126  0.813304     -0.101283 -0.177254 -1.161703   -0.316214    0.507903   \n",
       "\n",
       "       ...  Less deprived 20-30%  Less deprived 30-40%  Less deprived 40-50%  \\\n",
       "41825  ...             -0.310466             -0.318494             -0.336683   \n",
       "4751   ...             -0.310466             -0.318494             -0.336683   \n",
       "30945  ...              3.220961             -0.318494             -0.336683   \n",
       "29819  ...             -0.310466             -0.318494             -0.336683   \n",
       "33126  ...             -0.310466             -0.318494             -0.336683   \n",
       "\n",
       "       More deprived 10-20%  More deprived 20-30%  More deprived 30-40%  \\\n",
       "41825             -0.365524             -0.358937             -0.346379   \n",
       "4751              -0.365524             -0.358937             -0.346379   \n",
       "30945             -0.365524             -0.358937             -0.346379   \n",
       "29819             -0.365524             -0.358937             -0.346379   \n",
       "33126             -0.365524              2.786003             -0.346379   \n",
       "\n",
       "       More deprived 40-50%  Most deprived 10%  South-east  South-west  \n",
       "41825             -0.342890           2.761154    1.040600   -0.391260  \n",
       "4751               2.916384          -0.362167   -0.960984    2.555845  \n",
       "30945             -0.342890          -0.362167   -0.960984    2.555845  \n",
       "29819             -0.342890           2.761154    1.040600   -0.391260  \n",
       "33126             -0.342890          -0.362167    1.040600   -0.391260  \n",
       "\n",
       "[5 rows x 21 columns]"
      ]
     },
     "execution_count": 92,
     "metadata": {},
     "output_type": "execute_result"
    }
   ],
   "source": [
    "# Checking the top 5 rows for the upsampled dataframe\n",
    "serious_severity_upsample.head()"
   ]
  },
  {
   "cell_type": "markdown",
   "id": "2459c1d1",
   "metadata": {},
   "source": [
    "After performing upsampling, we need to concatenate the 3 dataframes into one new dataframe which will be the upsampled trainset."
   ]
  },
  {
   "cell_type": "code",
   "execution_count": 93,
   "id": "c88e3f67",
   "metadata": {},
   "outputs": [
    {
     "data": {
      "text/plain": [
       "(151095, 21)"
      ]
     },
     "execution_count": 93,
     "metadata": {},
     "output_type": "execute_result"
    }
   ],
   "source": [
    "# Concatenating using concat function in pandas and then printing the shape\n",
    "upsampled_trainset=pd.concat([slight_severity,serious_severity_upsample,fatal_severity_upsample])\n",
    "upsampled_trainset.shape"
   ]
  },
  {
   "cell_type": "code",
   "execution_count": 94,
   "id": "8bd3c055",
   "metadata": {},
   "outputs": [
    {
     "name": "stdout",
     "output_type": "stream",
     "text": [
      "Slight     50365\n",
      "Serious    50365\n",
      "Fatal      50365\n",
      "Name: accident_severity, dtype: int64\n"
     ]
    }
   ],
   "source": [
    "# Checking value counts in the new trainset for the accident_serverity column\n",
    "print(upsampled_trainset[\"accident_severity\"].value_counts())"
   ]
  },
  {
   "cell_type": "markdown",
   "id": "b7cfc9b2",
   "metadata": {},
   "source": [
    "After performing upsampling we can see that the 3 different classes in accident_severity are now equally distributed. This will help in improving the learning for the model and thus improve the predictions."
   ]
  },
  {
   "cell_type": "code",
   "execution_count": 95,
   "id": "cf16d8d1",
   "metadata": {},
   "outputs": [
    {
     "data": {
      "text/plain": [
       "<AxesSubplot:ylabel='Type'>"
      ]
     },
     "execution_count": 95,
     "metadata": {},
     "output_type": "execute_result"
    },
    {
     "data": {
      "image/png": "[encoded data removed]",
      "text/plain": [
       "<Figure size 432x288 with 1 Axes>"
      ]
     },
     "metadata": {},
     "output_type": "display_data"
    }
   ],
   "source": [
    "# Plotting a pie chart to show the class distribution for accident_severity\n",
    "upsampled_trainset.groupby('accident_severity').size().plot(kind='pie',\n",
    "                                       y = \"v1\",\n",
    "                                       label = \"Type\",\n",
    "                                       autopct='%1.1f%%')"
   ]
  },
  {
   "cell_type": "code",
   "execution_count": 96,
   "id": "05314036",
   "metadata": {
    "scrolled": true
   },
   "outputs": [
    {
     "data": {
      "text/html": [
       "<div>\n",
       "<style scoped>\n",
       "    .dataframe tbody tr th:only-of-type {\n",
       "        vertical-align: middle;\n",
       "    }\n",
       "\n",
       "    .dataframe tbody tr th {\n",
       "        vertical-align: top;\n",
       "    }\n",
       "\n",
       "    .dataframe thead th {\n",
       "        text-align: right;\n",
       "    }\n",
       "</style>\n",
       "<table border=\"1\" class=\"dataframe\">\n",
       "  <thead>\n",
       "    <tr style=\"text-align: right;\">\n",
       "      <th></th>\n",
       "      <th>accident_severity</th>\n",
       "      <th>age_of_driver</th>\n",
       "      <th>engine_capacity_cc</th>\n",
       "      <th>age_of_vehicle</th>\n",
       "      <th>Male</th>\n",
       "      <th>Other_gender</th>\n",
       "      <th>Hybrid</th>\n",
       "      <th>Petrol</th>\n",
       "      <th>Small town</th>\n",
       "      <th>Urban area</th>\n",
       "      <th>...</th>\n",
       "      <th>Less deprived 20-30%</th>\n",
       "      <th>Less deprived 30-40%</th>\n",
       "      <th>Less deprived 40-50%</th>\n",
       "      <th>More deprived 10-20%</th>\n",
       "      <th>More deprived 20-30%</th>\n",
       "      <th>More deprived 30-40%</th>\n",
       "      <th>More deprived 40-50%</th>\n",
       "      <th>Most deprived 10%</th>\n",
       "      <th>South-east</th>\n",
       "      <th>South-west</th>\n",
       "    </tr>\n",
       "  </thead>\n",
       "  <tbody>\n",
       "    <tr>\n",
       "      <th>0</th>\n",
       "      <td>Slight</td>\n",
       "      <td>0.412127</td>\n",
       "      <td>0.741336</td>\n",
       "      <td>-0.691722</td>\n",
       "      <td>0.813304</td>\n",
       "      <td>-0.101283</td>\n",
       "      <td>-0.177254</td>\n",
       "      <td>-1.161703</td>\n",
       "      <td>-0.316214</td>\n",
       "      <td>0.507903</td>\n",
       "      <td>...</td>\n",
       "      <td>-0.310466</td>\n",
       "      <td>-0.318494</td>\n",
       "      <td>-0.336683</td>\n",
       "      <td>2.735798</td>\n",
       "      <td>-0.358937</td>\n",
       "      <td>-0.346379</td>\n",
       "      <td>-0.34289</td>\n",
       "      <td>-0.362167</td>\n",
       "      <td>1.040600</td>\n",
       "      <td>-0.39126</td>\n",
       "    </tr>\n",
       "    <tr>\n",
       "      <th>1</th>\n",
       "      <td>Slight</td>\n",
       "      <td>1.523121</td>\n",
       "      <td>-1.655100</td>\n",
       "      <td>-0.502011</td>\n",
       "      <td>0.813304</td>\n",
       "      <td>-0.101283</td>\n",
       "      <td>-0.177254</td>\n",
       "      <td>0.860805</td>\n",
       "      <td>-0.316214</td>\n",
       "      <td>0.507903</td>\n",
       "      <td>...</td>\n",
       "      <td>-0.310466</td>\n",
       "      <td>-0.318494</td>\n",
       "      <td>-0.336683</td>\n",
       "      <td>-0.365524</td>\n",
       "      <td>-0.358937</td>\n",
       "      <td>2.887012</td>\n",
       "      <td>-0.34289</td>\n",
       "      <td>-0.362167</td>\n",
       "      <td>1.040600</td>\n",
       "      <td>-0.39126</td>\n",
       "    </tr>\n",
       "    <tr>\n",
       "      <th>2</th>\n",
       "      <td>Slight</td>\n",
       "      <td>1.113006</td>\n",
       "      <td>0.006316</td>\n",
       "      <td>1.015675</td>\n",
       "      <td>0.813304</td>\n",
       "      <td>-0.101283</td>\n",
       "      <td>-0.177254</td>\n",
       "      <td>0.860805</td>\n",
       "      <td>-0.316214</td>\n",
       "      <td>0.507903</td>\n",
       "      <td>...</td>\n",
       "      <td>-0.310466</td>\n",
       "      <td>-0.318494</td>\n",
       "      <td>-0.336683</td>\n",
       "      <td>-0.365524</td>\n",
       "      <td>-0.358937</td>\n",
       "      <td>-0.346379</td>\n",
       "      <td>-0.34289</td>\n",
       "      <td>-0.362167</td>\n",
       "      <td>1.040600</td>\n",
       "      <td>-0.39126</td>\n",
       "    </tr>\n",
       "    <tr>\n",
       "      <th>4</th>\n",
       "      <td>Slight</td>\n",
       "      <td>-0.200150</td>\n",
       "      <td>-1.655100</td>\n",
       "      <td>-1.640276</td>\n",
       "      <td>-1.229553</td>\n",
       "      <td>-0.101283</td>\n",
       "      <td>-0.177254</td>\n",
       "      <td>0.860805</td>\n",
       "      <td>-0.316214</td>\n",
       "      <td>0.507903</td>\n",
       "      <td>...</td>\n",
       "      <td>-0.310466</td>\n",
       "      <td>-0.318494</td>\n",
       "      <td>-0.336683</td>\n",
       "      <td>-0.365524</td>\n",
       "      <td>-0.358937</td>\n",
       "      <td>-0.346379</td>\n",
       "      <td>-0.34289</td>\n",
       "      <td>-0.362167</td>\n",
       "      <td>1.040600</td>\n",
       "      <td>-0.39126</td>\n",
       "    </tr>\n",
       "    <tr>\n",
       "      <th>5</th>\n",
       "      <td>Slight</td>\n",
       "      <td>-0.924344</td>\n",
       "      <td>-1.286085</td>\n",
       "      <td>0.825965</td>\n",
       "      <td>0.813304</td>\n",
       "      <td>-0.101283</td>\n",
       "      <td>-0.177254</td>\n",
       "      <td>0.860805</td>\n",
       "      <td>3.162418</td>\n",
       "      <td>-1.968879</td>\n",
       "      <td>...</td>\n",
       "      <td>-0.310466</td>\n",
       "      <td>-0.318494</td>\n",
       "      <td>-0.336683</td>\n",
       "      <td>-0.365524</td>\n",
       "      <td>-0.358937</td>\n",
       "      <td>-0.346379</td>\n",
       "      <td>-0.34289</td>\n",
       "      <td>-0.362167</td>\n",
       "      <td>-0.960984</td>\n",
       "      <td>-0.39126</td>\n",
       "    </tr>\n",
       "  </tbody>\n",
       "</table>\n",
       "<p>5 rows × 21 columns</p>\n",
       "</div>"
      ],
      "text/plain": [
       "  accident_severity  age_of_driver  engine_capacity_cc  age_of_vehicle  \\\n",
       "0            Slight       0.412127            0.741336       -0.691722   \n",
       "1            Slight       1.523121           -1.655100       -0.502011   \n",
       "2            Slight       1.113006            0.006316        1.015675   \n",
       "4            Slight      -0.200150           -1.655100       -1.640276   \n",
       "5            Slight      -0.924344           -1.286085        0.825965   \n",
       "\n",
       "       Male  Other_gender    Hybrid    Petrol  Small town  Urban area  ...  \\\n",
       "0  0.813304     -0.101283 -0.177254 -1.161703   -0.316214    0.507903  ...   \n",
       "1  0.813304     -0.101283 -0.177254  0.860805   -0.316214    0.507903  ...   \n",
       "2  0.813304     -0.101283 -0.177254  0.860805   -0.316214    0.507903  ...   \n",
       "4 -1.229553     -0.101283 -0.177254  0.860805   -0.316214    0.507903  ...   \n",
       "5  0.813304     -0.101283 -0.177254  0.860805    3.162418   -1.968879  ...   \n",
       "\n",
       "   Less deprived 20-30%  Less deprived 30-40%  Less deprived 40-50%  \\\n",
       "0             -0.310466             -0.318494             -0.336683   \n",
       "1             -0.310466             -0.318494             -0.336683   \n",
       "2             -0.310466             -0.318494             -0.336683   \n",
       "4             -0.310466             -0.318494             -0.336683   \n",
       "5             -0.310466             -0.318494             -0.336683   \n",
       "\n",
       "   More deprived 10-20%  More deprived 20-30%  More deprived 30-40%  \\\n",
       "0              2.735798             -0.358937             -0.346379   \n",
       "1             -0.365524             -0.358937              2.887012   \n",
       "2             -0.365524             -0.358937             -0.346379   \n",
       "4             -0.365524             -0.358937             -0.346379   \n",
       "5             -0.365524             -0.358937             -0.346379   \n",
       "\n",
       "   More deprived 40-50%  Most deprived 10%  South-east  South-west  \n",
       "0              -0.34289          -0.362167    1.040600    -0.39126  \n",
       "1              -0.34289          -0.362167    1.040600    -0.39126  \n",
       "2              -0.34289          -0.362167    1.040600    -0.39126  \n",
       "4              -0.34289          -0.362167    1.040600    -0.39126  \n",
       "5              -0.34289          -0.362167   -0.960984    -0.39126  \n",
       "\n",
       "[5 rows x 21 columns]"
      ]
     },
     "execution_count": 96,
     "metadata": {},
     "output_type": "execute_result"
    }
   ],
   "source": [
    "# Printing the head for the new trainset\n",
    "upsampled_trainset.head()"
   ]
  },
  {
   "cell_type": "code",
   "execution_count": 97,
   "id": "cf69eafb",
   "metadata": {},
   "outputs": [
    {
     "data": {
      "text/plain": [
       "(151095, 21)"
      ]
     },
     "execution_count": 97,
     "metadata": {},
     "output_type": "execute_result"
    }
   ],
   "source": [
    "# Printing the shape foe the new trainset\n",
    "upsampled_trainset.shape"
   ]
  },
  {
   "cell_type": "markdown",
   "id": "de477d32",
   "metadata": {},
   "source": [
    "## 5. Hyperparameter Tuning\n",
    "Hyperparameter tuning deals with finding the optimum values of the parameters which define the model's performance and the architecture. For example, in decision tree classifier the hyperparameters include the maximum depth of the tree and minimum samples at the leaf node. Depending on the values given, the performance of the model will also vary. Here we will be using Grid search method for hyperparameter tuning where model is build for each possible combination of hyperparameters provided.  "
   ]
  },
  {
   "cell_type": "markdown",
   "id": "4767b4a7",
   "metadata": {},
   "source": [
    "## 6. Training and Testing of models"
   ]
  },
  {
   "cell_type": "code",
   "execution_count": 125,
   "id": "eae5c78f",
   "metadata": {},
   "outputs": [],
   "source": [
    "# Splitting trainset into 2 sets. Xtrain will have all columns except target column whereas Ytrain will only have the target variable\n",
    "Xtrain = upsampled_trainset.drop(\"accident_severity\", axis=1)\n",
    "\n",
    "Ytrain = upsampled_trainset[\"accident_severity\"].copy()"
   ]
  },
  {
   "cell_type": "code",
   "execution_count": 126,
   "id": "f8f74564",
   "metadata": {},
   "outputs": [],
   "source": [
    "# drop labels for testing set, but keep all others\n",
    "Xtest = testset.drop(\"accident_severity\", axis=1)\n",
    "\n",
    "Ytest = testset[\"accident_severity\"].copy()"
   ]
  },
  {
   "cell_type": "code",
   "execution_count": 127,
   "id": "4bc91d59",
   "metadata": {},
   "outputs": [
    {
     "data": {
      "text/plain": [
       "(15482, 21)"
      ]
     },
     "execution_count": 127,
     "metadata": {},
     "output_type": "execute_result"
    }
   ],
   "source": [
    "testset.shape"
   ]
  },
  {
   "cell_type": "markdown",
   "id": "ec1a3759",
   "metadata": {},
   "source": [
    "## 6.1 Random Forest"
   ]
  },
  {
   "cell_type": "markdown",
   "id": "d5766b21",
   "metadata": {},
   "source": [
    "### 6.1.1 Training the model"
   ]
  },
  {
   "cell_type": "code",
   "execution_count": 128,
   "id": "04e0145e",
   "metadata": {},
   "outputs": [
    {
     "name": "stdout",
     "output_type": "stream",
     "text": [
      "Took 2035.077475309372 seconds\n"
     ]
    }
   ],
   "source": [
    "from sklearn.ensemble import RandomForestClassifier\n",
    "\n",
    "randomforest = RandomForestClassifier(random_state=7)\n",
    "\n",
    "# specify the hyperparameters and their values\n",
    "# 4 x 3 x 2 = 24 combinations in the grid\n",
    "param_grid = {\n",
    "    'n_estimators': [10, 100, 200, 500],\n",
    "    'max_depth': [5, 15,20],\n",
    "    'min_samples_split': [5, 10]\n",
    "}\n",
    "\n",
    "# we'll use 5-fold cross-validation\n",
    "grid_search = GridSearchCV(randomforest, param_grid, cv=5,\n",
    "                           scoring='f1_macro', \n",
    "                           return_train_score=True) \n",
    "\n",
    "start = time.time()\n",
    "grid_search.fit(Xtrain, Ytrain)\n",
    "end = time.time() - start\n",
    "print(f\"Took {end} seconds\")"
   ]
  },
  {
   "cell_type": "code",
   "execution_count": 129,
   "id": "60a139fa",
   "metadata": {},
   "outputs": [
    {
     "data": {
      "text/plain": [
       "RandomForestClassifier(max_depth=20, min_samples_split=5, n_estimators=500,\n",
       "                       random_state=7)"
      ]
     },
     "execution_count": 129,
     "metadata": {},
     "output_type": "execute_result"
    }
   ],
   "source": [
    "# calling the best estimator in Random forest\n",
    "grid_search.best_estimator_"
   ]
  },
  {
   "cell_type": "code",
   "execution_count": 130,
   "id": "09f30b08",
   "metadata": {},
   "outputs": [
    {
     "data": {
      "text/plain": [
       "0.9191621694998993"
      ]
     },
     "execution_count": 130,
     "metadata": {},
     "output_type": "execute_result"
    }
   ],
   "source": [
    "# Score for the best estimator in Random forest\n",
    "grid_search.best_score_"
   ]
  },
  {
   "cell_type": "markdown",
   "id": "ebb24fa4",
   "metadata": {},
   "source": [
    "The best combination of hyperparameters are max_depth=20, min_samples_split=5, n_estimators=500 which produces a f-score of 0.919. Now lets find the index of the best performing model."
   ]
  },
  {
   "cell_type": "code",
   "execution_count": 131,
   "id": "b2806c24",
   "metadata": {},
   "outputs": [
    {
     "data": {
      "text/plain": [
       "19"
      ]
     },
     "execution_count": 131,
     "metadata": {},
     "output_type": "execute_result"
    }
   ],
   "source": [
    "# Best estimator index \n",
    "best_model_index = grid_search.cv_results_[\"rank_test_score\"].tolist().index(1)\n",
    "best_model_index"
   ]
  },
  {
   "cell_type": "code",
   "execution_count": 132,
   "id": "bce55c49",
   "metadata": {},
   "outputs": [],
   "source": [
    "rf_split_test_scores = []\n",
    "for x in range(5):\n",
    "    # extract f-score of the best model (index='best_model_index') from each of the 5 splits\n",
    "    val = grid_search.cv_results_[f\"split{x}_test_score\"][best_model_index]\n",
    "    rf_split_test_scores.append(val)"
   ]
  },
  {
   "cell_type": "code",
   "execution_count": 133,
   "id": "0b2e0553",
   "metadata": {},
   "outputs": [
    {
     "data": {
      "text/html": [
       "<div>\n",
       "<style scoped>\n",
       "    .dataframe tbody tr th:only-of-type {\n",
       "        vertical-align: middle;\n",
       "    }\n",
       "\n",
       "    .dataframe tbody tr th {\n",
       "        vertical-align: top;\n",
       "    }\n",
       "\n",
       "    .dataframe thead th {\n",
       "        text-align: right;\n",
       "    }\n",
       "</style>\n",
       "<table border=\"1\" class=\"dataframe\">\n",
       "  <thead>\n",
       "    <tr style=\"text-align: right;\">\n",
       "      <th></th>\n",
       "      <th>params</th>\n",
       "      <th>mean_train_score</th>\n",
       "      <th>mean_test_score</th>\n",
       "      <th>diff, %</th>\n",
       "    </tr>\n",
       "  </thead>\n",
       "  <tbody>\n",
       "    <tr>\n",
       "      <th>19</th>\n",
       "      <td>{'max_depth': 20, 'min_samples_split': 5, 'n_estimators': 500}</td>\n",
       "      <td>0.977222</td>\n",
       "      <td>0.919162</td>\n",
       "      <td>5.941305</td>\n",
       "    </tr>\n",
       "    <tr>\n",
       "      <th>18</th>\n",
       "      <td>{'max_depth': 20, 'min_samples_split': 5, 'n_estimators': 200}</td>\n",
       "      <td>0.976676</td>\n",
       "      <td>0.918497</td>\n",
       "      <td>5.956880</td>\n",
       "    </tr>\n",
       "    <tr>\n",
       "      <th>17</th>\n",
       "      <td>{'max_depth': 20, 'min_samples_split': 5, 'n_estimators': 100}</td>\n",
       "      <td>0.975456</td>\n",
       "      <td>0.916598</td>\n",
       "      <td>6.033884</td>\n",
       "    </tr>\n",
       "    <tr>\n",
       "      <th>23</th>\n",
       "      <td>{'max_depth': 20, 'min_samples_split': 10, 'n_estimators': 500}</td>\n",
       "      <td>0.959515</td>\n",
       "      <td>0.895929</td>\n",
       "      <td>6.626876</td>\n",
       "    </tr>\n",
       "    <tr>\n",
       "      <th>22</th>\n",
       "      <td>{'max_depth': 20, 'min_samples_split': 10, 'n_estimators': 200}</td>\n",
       "      <td>0.959085</td>\n",
       "      <td>0.894618</td>\n",
       "      <td>6.721716</td>\n",
       "    </tr>\n",
       "    <tr>\n",
       "      <th>21</th>\n",
       "      <td>{'max_depth': 20, 'min_samples_split': 10, 'n_estimators': 100}</td>\n",
       "      <td>0.957405</td>\n",
       "      <td>0.892852</td>\n",
       "      <td>6.742473</td>\n",
       "    </tr>\n",
       "    <tr>\n",
       "      <th>16</th>\n",
       "      <td>{'max_depth': 20, 'min_samples_split': 5, 'n_estimators': 10}</td>\n",
       "      <td>0.952876</td>\n",
       "      <td>0.885059</td>\n",
       "      <td>7.117010</td>\n",
       "    </tr>\n",
       "    <tr>\n",
       "      <th>20</th>\n",
       "      <td>{'max_depth': 20, 'min_samples_split': 10, 'n_estimators': 10}</td>\n",
       "      <td>0.927774</td>\n",
       "      <td>0.859058</td>\n",
       "      <td>7.406523</td>\n",
       "    </tr>\n",
       "    <tr>\n",
       "      <th>11</th>\n",
       "      <td>{'max_depth': 15, 'min_samples_split': 5, 'n_estimators': 500}</td>\n",
       "      <td>0.887944</td>\n",
       "      <td>0.830698</td>\n",
       "      <td>6.446951</td>\n",
       "    </tr>\n",
       "    <tr>\n",
       "      <th>10</th>\n",
       "      <td>{'max_depth': 15, 'min_samples_split': 5, 'n_estimators': 200}</td>\n",
       "      <td>0.885712</td>\n",
       "      <td>0.828480</td>\n",
       "      <td>6.461657</td>\n",
       "    </tr>\n",
       "    <tr>\n",
       "      <th>9</th>\n",
       "      <td>{'max_depth': 15, 'min_samples_split': 5, 'n_estimators': 100}</td>\n",
       "      <td>0.882971</td>\n",
       "      <td>0.825757</td>\n",
       "      <td>6.479624</td>\n",
       "    </tr>\n",
       "    <tr>\n",
       "      <th>15</th>\n",
       "      <td>{'max_depth': 15, 'min_samples_split': 10, 'n_estimators': 500}</td>\n",
       "      <td>0.871651</td>\n",
       "      <td>0.814963</td>\n",
       "      <td>6.503537</td>\n",
       "    </tr>\n",
       "    <tr>\n",
       "      <th>14</th>\n",
       "      <td>{'max_depth': 15, 'min_samples_split': 10, 'n_estimators': 200}</td>\n",
       "      <td>0.870736</td>\n",
       "      <td>0.814433</td>\n",
       "      <td>6.466084</td>\n",
       "    </tr>\n",
       "    <tr>\n",
       "      <th>13</th>\n",
       "      <td>{'max_depth': 15, 'min_samples_split': 10, 'n_estimators': 100}</td>\n",
       "      <td>0.865736</td>\n",
       "      <td>0.810080</td>\n",
       "      <td>6.428767</td>\n",
       "    </tr>\n",
       "    <tr>\n",
       "      <th>8</th>\n",
       "      <td>{'max_depth': 15, 'min_samples_split': 5, 'n_estimators': 10}</td>\n",
       "      <td>0.834816</td>\n",
       "      <td>0.780784</td>\n",
       "      <td>6.472334</td>\n",
       "    </tr>\n",
       "    <tr>\n",
       "      <th>12</th>\n",
       "      <td>{'max_depth': 15, 'min_samples_split': 10, 'n_estimators': 10}</td>\n",
       "      <td>0.822394</td>\n",
       "      <td>0.770990</td>\n",
       "      <td>6.250476</td>\n",
       "    </tr>\n",
       "    <tr>\n",
       "      <th>4</th>\n",
       "      <td>{'max_depth': 5, 'min_samples_split': 10, 'n_estimators': 10}</td>\n",
       "      <td>0.417189</td>\n",
       "      <td>0.414600</td>\n",
       "      <td>0.620599</td>\n",
       "    </tr>\n",
       "    <tr>\n",
       "      <th>0</th>\n",
       "      <td>{'max_depth': 5, 'min_samples_split': 5, 'n_estimators': 10}</td>\n",
       "      <td>0.415183</td>\n",
       "      <td>0.413617</td>\n",
       "      <td>0.377307</td>\n",
       "    </tr>\n",
       "    <tr>\n",
       "      <th>1</th>\n",
       "      <td>{'max_depth': 5, 'min_samples_split': 5, 'n_estimators': 100}</td>\n",
       "      <td>0.415598</td>\n",
       "      <td>0.413494</td>\n",
       "      <td>0.506481</td>\n",
       "    </tr>\n",
       "    <tr>\n",
       "      <th>5</th>\n",
       "      <td>{'max_depth': 5, 'min_samples_split': 10, 'n_estimators': 100}</td>\n",
       "      <td>0.415925</td>\n",
       "      <td>0.413488</td>\n",
       "      <td>0.585998</td>\n",
       "    </tr>\n",
       "    <tr>\n",
       "      <th>6</th>\n",
       "      <td>{'max_depth': 5, 'min_samples_split': 10, 'n_estimators': 200}</td>\n",
       "      <td>0.415427</td>\n",
       "      <td>0.413451</td>\n",
       "      <td>0.475828</td>\n",
       "    </tr>\n",
       "    <tr>\n",
       "      <th>2</th>\n",
       "      <td>{'max_depth': 5, 'min_samples_split': 5, 'n_estimators': 200}</td>\n",
       "      <td>0.415279</td>\n",
       "      <td>0.413227</td>\n",
       "      <td>0.493969</td>\n",
       "    </tr>\n",
       "    <tr>\n",
       "      <th>7</th>\n",
       "      <td>{'max_depth': 5, 'min_samples_split': 10, 'n_estimators': 500}</td>\n",
       "      <td>0.414889</td>\n",
       "      <td>0.412682</td>\n",
       "      <td>0.531885</td>\n",
       "    </tr>\n",
       "    <tr>\n",
       "      <th>3</th>\n",
       "      <td>{'max_depth': 5, 'min_samples_split': 5, 'n_estimators': 500}</td>\n",
       "      <td>0.414626</td>\n",
       "      <td>0.412524</td>\n",
       "      <td>0.506994</td>\n",
       "    </tr>\n",
       "  </tbody>\n",
       "</table>\n",
       "</div>"
      ],
      "text/plain": [
       "                                                             params  \\\n",
       "19   {'max_depth': 20, 'min_samples_split': 5, 'n_estimators': 500}   \n",
       "18   {'max_depth': 20, 'min_samples_split': 5, 'n_estimators': 200}   \n",
       "17   {'max_depth': 20, 'min_samples_split': 5, 'n_estimators': 100}   \n",
       "23  {'max_depth': 20, 'min_samples_split': 10, 'n_estimators': 500}   \n",
       "22  {'max_depth': 20, 'min_samples_split': 10, 'n_estimators': 200}   \n",
       "21  {'max_depth': 20, 'min_samples_split': 10, 'n_estimators': 100}   \n",
       "16    {'max_depth': 20, 'min_samples_split': 5, 'n_estimators': 10}   \n",
       "20   {'max_depth': 20, 'min_samples_split': 10, 'n_estimators': 10}   \n",
       "11   {'max_depth': 15, 'min_samples_split': 5, 'n_estimators': 500}   \n",
       "10   {'max_depth': 15, 'min_samples_split': 5, 'n_estimators': 200}   \n",
       "9    {'max_depth': 15, 'min_samples_split': 5, 'n_estimators': 100}   \n",
       "15  {'max_depth': 15, 'min_samples_split': 10, 'n_estimators': 500}   \n",
       "14  {'max_depth': 15, 'min_samples_split': 10, 'n_estimators': 200}   \n",
       "13  {'max_depth': 15, 'min_samples_split': 10, 'n_estimators': 100}   \n",
       "8     {'max_depth': 15, 'min_samples_split': 5, 'n_estimators': 10}   \n",
       "12   {'max_depth': 15, 'min_samples_split': 10, 'n_estimators': 10}   \n",
       "4     {'max_depth': 5, 'min_samples_split': 10, 'n_estimators': 10}   \n",
       "0      {'max_depth': 5, 'min_samples_split': 5, 'n_estimators': 10}   \n",
       "1     {'max_depth': 5, 'min_samples_split': 5, 'n_estimators': 100}   \n",
       "5    {'max_depth': 5, 'min_samples_split': 10, 'n_estimators': 100}   \n",
       "6    {'max_depth': 5, 'min_samples_split': 10, 'n_estimators': 200}   \n",
       "2     {'max_depth': 5, 'min_samples_split': 5, 'n_estimators': 200}   \n",
       "7    {'max_depth': 5, 'min_samples_split': 10, 'n_estimators': 500}   \n",
       "3     {'max_depth': 5, 'min_samples_split': 5, 'n_estimators': 500}   \n",
       "\n",
       "    mean_train_score  mean_test_score   diff, %  \n",
       "19          0.977222         0.919162  5.941305  \n",
       "18          0.976676         0.918497  5.956880  \n",
       "17          0.975456         0.916598  6.033884  \n",
       "23          0.959515         0.895929  6.626876  \n",
       "22          0.959085         0.894618  6.721716  \n",
       "21          0.957405         0.892852  6.742473  \n",
       "16          0.952876         0.885059  7.117010  \n",
       "20          0.927774         0.859058  7.406523  \n",
       "11          0.887944         0.830698  6.446951  \n",
       "10          0.885712         0.828480  6.461657  \n",
       "9           0.882971         0.825757  6.479624  \n",
       "15          0.871651         0.814963  6.503537  \n",
       "14          0.870736         0.814433  6.466084  \n",
       "13          0.865736         0.810080  6.428767  \n",
       "8           0.834816         0.780784  6.472334  \n",
       "12          0.822394         0.770990  6.250476  \n",
       "4           0.417189         0.414600  0.620599  \n",
       "0           0.415183         0.413617  0.377307  \n",
       "1           0.415598         0.413494  0.506481  \n",
       "5           0.415925         0.413488  0.585998  \n",
       "6           0.415427         0.413451  0.475828  \n",
       "2           0.415279         0.413227  0.493969  \n",
       "7           0.414889         0.412682  0.531885  \n",
       "3           0.414626         0.412524  0.506994  "
      ]
     },
     "execution_count": 133,
     "metadata": {},
     "output_type": "execute_result"
    }
   ],
   "source": [
    "# Creating a dataframe with all the hyperparamters, mean train and test score along with the difference between them\n",
    "cv_results = pd.DataFrame(grid_search.cv_results_)[['params', 'mean_train_score', 'mean_test_score']]\n",
    "cv_results[\"diff, %\"] = 100*(cv_results[\"mean_train_score\"]-cv_results[\"mean_test_score\"]\n",
    "                                                     )/cv_results[\"mean_train_score\"]\n",
    "\n",
    "pd.set_option('display.max_colwidth', 100)\n",
    "cv_results.sort_values('mean_test_score', ascending=False)"
   ]
  },
  {
   "cell_type": "markdown",
   "id": "58af6015",
   "metadata": {},
   "source": [
    "We can see that as the maximum depth of the trees increase, the performance of the model improves drastically. We can also note that with max_depth=20, there is a difference of 0.05 in the mean test score between the best and worst models indicating n_estimators and sample split are not influencing the model much. At higher values of max_depth there are indications of slight overfitting. We could improve the model further by regularizing the models with other paramters in Random forest."
   ]
  },
  {
   "cell_type": "code",
   "execution_count": 137,
   "id": "fac2fb79",
   "metadata": {},
   "outputs": [
    {
     "name": "stdout",
     "output_type": "stream",
     "text": [
      "age_of_driver: 0.2914679085247302\n",
      "engine_capacity_cc: 0.2558987496729143\n",
      "age_of_vehicle: 0.21969944995804175\n",
      "Petrol: 0.025982863570264393\n",
      "South-east: 0.022233327057880517\n",
      "Male: 0.02045849191440497\n",
      "South-west: 0.01943569636047387\n",
      "Urban area: 0.01846307164635577\n",
      "Less deprived 40-50%: 0.013062946741977227\n",
      "Less deprived 30-40%: 0.012878291900382779\n",
      "More deprived 20-30%: 0.012397476024305173\n",
      "More deprived 40-50%: 0.012288442187856755\n",
      "More deprived 30-40%: 0.01213115543607207\n",
      "Less deprived 10-20%: 0.011754373085234028\n",
      "Less deprived 20-30%: 0.011641814318529163\n",
      "Small town: 0.011526917677517208\n",
      "More deprived 10-20%: 0.009681649942004045\n",
      "Most deprived 10%: 0.009399625665674979\n",
      "Hybrid: 0.006972022975001064\n",
      "Other_gender: 0.002625725340379809\n"
     ]
    }
   ],
   "source": [
    "# put them into a separate variable for convenience\n",
    "feature_importances = grid_search.best_estimator_.feature_importances_\n",
    "\n",
    "# the order of the features in `feature_importances` is the same as in the Xtrain dataframe,\n",
    "# so we can \"zip\" the two and print in the descending order:\n",
    "\n",
    "for k, v in sorted(zip(feature_importances, Xtrain.columns), reverse=True):\n",
    "    print(f\"{v}: {k}\")"
   ]
  },
  {
   "cell_type": "markdown",
   "id": "128572ea",
   "metadata": {},
   "source": [
    "We can see here that the most important variables of concern are age_of_driver, engine_capacity_cc and age_of_vehicle as they are strong predictors. There is a huge drop-off for the other variables. We can also see that Hybrid cars and other_gender categories are very weak predictors.\n",
    "We will now save the results to the disk using the dump function from the joblib module."
   ]
  },
  {
   "cell_type": "code",
   "execution_count": 138,
   "id": "ce59c6ba",
   "metadata": {},
   "outputs": [
    {
     "data": {
      "text/plain": [
       "['models/rf-clf.joblib']"
      ]
     },
     "execution_count": 138,
     "metadata": {},
     "output_type": "execute_result"
    }
   ],
   "source": [
    "import os\n",
    "from joblib import dump\n",
    "\n",
    "# create a folder where all trained models will be kept\n",
    "if not os.path.exists(\"models\"):\n",
    "    os.makedirs(\"models\")\n",
    "    \n",
    "dump(grid_search.best_estimator_, 'models/rf-clf.joblib')"
   ]
  },
  {
   "cell_type": "markdown",
   "id": "e34f9669",
   "metadata": {},
   "source": [
    "### 6.1.2 Testing the model"
   ]
  },
  {
   "cell_type": "code",
   "execution_count": 145,
   "id": "7804d8e7",
   "metadata": {},
   "outputs": [
    {
     "name": "stdout",
     "output_type": "stream",
     "text": [
      "Random Forest:\n",
      "Precision: 0.3398124692544488\n",
      "Recall: 0.338207638046776\n",
      "F score: 0.33644648902640356\n",
      "\n",
      "Accuracy: 0.73\n",
      "\n"
     ]
    }
   ],
   "source": [
    "from joblib import load\n",
    "\n",
    "best_rf = load(\"models/rf-clf.joblib\")\n",
    "from sklearn.metrics import precision_recall_fscore_support\n",
    "\n",
    "# rf\n",
    "yhat = best_rf.predict(Xtest)\n",
    "\n",
    "# micro-averaged precision, recall and f-score\n",
    "p, r, f, s = precision_recall_fscore_support(Ytest, yhat, average=\"macro\")\n",
    "print(\"Random Forest:\")\n",
    "print(f\"Precision: {p}\")\n",
    "print(f\"Recall: {r}\")\n",
    "print(f\"F score: {f}\")\n",
    "print('\\nAccuracy: {:.2f}\\n'.format(accuracy_score(Ytest, yhat)))"
   ]
  },
  {
   "cell_type": "markdown",
   "id": "369e0e04",
   "metadata": {},
   "source": [
    "Plotting confusion matrix to understand the errors."
   ]
  },
  {
   "cell_type": "code",
   "execution_count": 146,
   "id": "0216416f",
   "metadata": {},
   "outputs": [
    {
     "name": "stdout",
     "output_type": "stream",
     "text": [
      "[[    4    29   179]\n",
      " [   26   322  2338]\n",
      " [  135  1427 11022]]\n"
     ]
    }
   ],
   "source": [
    "# Printing confusion matrix\n",
    "from sklearn.metrics import confusion_matrix\n",
    "confusion_matrix1 = confusion_matrix(Ytest, yhat)\n",
    "print(confusion_matrix1)\n",
    "#f = sns.heatmap(cm, annot=True, fmt='d')"
   ]
  },
  {
   "cell_type": "code",
   "execution_count": 147,
   "id": "8e950ee6",
   "metadata": {},
   "outputs": [
    {
     "data": {
      "text/plain": [
       "<sklearn.metrics._plot.confusion_matrix.ConfusionMatrixDisplay at 0x28f99648a90>"
      ]
     },
     "execution_count": 147,
     "metadata": {},
     "output_type": "execute_result"
    },
    {
     "data": {
      "image/png": "[encoded data removed]",
      "text/plain": [
       "<Figure size 432x288 with 2 Axes>"
      ]
     },
     "metadata": {
      "needs_background": "light"
     },
     "output_type": "display_data"
    }
   ],
   "source": [
    "# Plotting confusion matrix\n",
    "from sklearn.metrics import ConfusionMatrixDisplay\n",
    "\n",
    "ConfusionMatrixDisplay.from_predictions(Ytest, yhat, labels=best_rf.classes_, \n",
    "                                        xticks_rotation=\"vertical\", normalize=\"true\",\n",
    "                                        cmap=plt.cm.Blues)"
   ]
  },
  {
   "cell_type": "markdown",
   "id": "fcd29685",
   "metadata": {},
   "source": [
    "We can see that 88% of Slight severity accidents were predicted correctly. Also 87% of the serious accidents were predicted as slight, which is not great. Similarly 84% of the fatal accidents were predicted as Slight. We can see that the model helps in predicting only slight severity accidents with good accuracy whereas it wrongly predicts fatal and serious accidents as slight."
   ]
  },
  {
   "cell_type": "markdown",
   "id": "b4f27f58",
   "metadata": {},
   "source": [
    "## 6.2 Linear Support Vector Machine"
   ]
  },
  {
   "cell_type": "markdown",
   "id": "4f2cdd7b",
   "metadata": {},
   "source": [
    "### 6.2.1 Training the model"
   ]
  },
  {
   "cell_type": "code",
   "execution_count": 162,
   "id": "f7c62a62",
   "metadata": {},
   "outputs": [
    {
     "name": "stdout",
     "output_type": "stream",
     "text": [
      "Took 3997.427176475525 seconds\n"
     ]
    }
   ],
   "source": [
    "from sklearn.svm import LinearSVC\n",
    "\n",
    "lsvm = LinearSVC(random_state=7, max_iter=5000)\n",
    "\n",
    "# specify the hyperparameters and their values\n",
    "# 5 combinations in the grid\n",
    "param_grid = {\n",
    "    'C': [0.001, 0.01, 0.1, 1, 10],\n",
    "}\n",
    "\n",
    "# we'll use 5-fold cross-validation\n",
    "grid_search = GridSearchCV(lsvm, param_grid, cv=5, scoring='f1_macro', return_train_score=True) \n",
    "\n",
    "start = time.time()\n",
    "grid_search.fit(Xtrain, Ytrain)\n",
    "end = time.time() - start\n",
    "print(f\"Took {end} seconds\")"
   ]
  },
  {
   "cell_type": "code",
   "execution_count": 169,
   "id": "e7ae49f7",
   "metadata": {},
   "outputs": [
    {
     "data": {
      "text/plain": [
       "LinearSVC(C=0.001, max_iter=5000, random_state=7)"
      ]
     },
     "execution_count": 169,
     "metadata": {},
     "output_type": "execute_result"
    }
   ],
   "source": [
    "grid_search.best_estimator_"
   ]
  },
  {
   "cell_type": "code",
   "execution_count": 170,
   "id": "4a8558f4",
   "metadata": {},
   "outputs": [
    {
     "data": {
      "text/plain": [
       "0.3901311676075999"
      ]
     },
     "execution_count": 170,
     "metadata": {},
     "output_type": "execute_result"
    }
   ],
   "source": [
    "grid_search.best_score_"
   ]
  },
  {
   "cell_type": "markdown",
   "id": "e28daae7",
   "metadata": {},
   "source": [
    "Here the best f-score produced is 0.39 which is better than the baseline model but less than the RF model.\n",
    "Now we will display the hyperparameters and the corresponding scores."
   ]
  },
  {
   "cell_type": "code",
   "execution_count": 171,
   "id": "957b9b06",
   "metadata": {},
   "outputs": [
    {
     "data": {
      "text/html": [
       "<div>\n",
       "<style scoped>\n",
       "    .dataframe tbody tr th:only-of-type {\n",
       "        vertical-align: middle;\n",
       "    }\n",
       "\n",
       "    .dataframe tbody tr th {\n",
       "        vertical-align: top;\n",
       "    }\n",
       "\n",
       "    .dataframe thead th {\n",
       "        text-align: right;\n",
       "    }\n",
       "</style>\n",
       "<table border=\"1\" class=\"dataframe\">\n",
       "  <thead>\n",
       "    <tr style=\"text-align: right;\">\n",
       "      <th></th>\n",
       "      <th>params</th>\n",
       "      <th>mean_train_score</th>\n",
       "      <th>mean_test_score</th>\n",
       "      <th>diff, %</th>\n",
       "    </tr>\n",
       "  </thead>\n",
       "  <tbody>\n",
       "    <tr>\n",
       "      <th>0</th>\n",
       "      <td>{'C': 0.001}</td>\n",
       "      <td>0.390848</td>\n",
       "      <td>0.390131</td>\n",
       "      <td>0.183457</td>\n",
       "    </tr>\n",
       "    <tr>\n",
       "      <th>4</th>\n",
       "      <td>{'C': 10}</td>\n",
       "      <td>0.391137</td>\n",
       "      <td>0.389961</td>\n",
       "      <td>0.300582</td>\n",
       "    </tr>\n",
       "    <tr>\n",
       "      <th>3</th>\n",
       "      <td>{'C': 1}</td>\n",
       "      <td>0.390971</td>\n",
       "      <td>0.389957</td>\n",
       "      <td>0.259529</td>\n",
       "    </tr>\n",
       "    <tr>\n",
       "      <th>2</th>\n",
       "      <td>{'C': 0.1}</td>\n",
       "      <td>0.390964</td>\n",
       "      <td>0.389937</td>\n",
       "      <td>0.262604</td>\n",
       "    </tr>\n",
       "    <tr>\n",
       "      <th>1</th>\n",
       "      <td>{'C': 0.01}</td>\n",
       "      <td>0.390938</td>\n",
       "      <td>0.389925</td>\n",
       "      <td>0.259053</td>\n",
       "    </tr>\n",
       "  </tbody>\n",
       "</table>\n",
       "</div>"
      ],
      "text/plain": [
       "         params  mean_train_score  mean_test_score   diff, %\n",
       "0  {'C': 0.001}          0.390848         0.390131  0.183457\n",
       "4     {'C': 10}          0.391137         0.389961  0.300582\n",
       "3      {'C': 1}          0.390971         0.389957  0.259529\n",
       "2    {'C': 0.1}          0.390964         0.389937  0.262604\n",
       "1   {'C': 0.01}          0.390938         0.389925  0.259053"
      ]
     },
     "execution_count": 171,
     "metadata": {},
     "output_type": "execute_result"
    }
   ],
   "source": [
    "cv_results = pd.DataFrame(grid_search.cv_results_)[['params', 'mean_train_score', 'mean_test_score']]\n",
    "cv_results[\"diff, %\"] = 100*(cv_results[\"mean_train_score\"]-cv_results[\"mean_test_score\"]\n",
    "                                                     )/cv_results[\"mean_train_score\"]\n",
    "\n",
    "pd.set_option('display.max_colwidth', 100)\n",
    "cv_results.sort_values('mean_test_score', ascending=False)"
   ]
  },
  {
   "cell_type": "markdown",
   "id": "f216dd77",
   "metadata": {},
   "source": [
    "There seems to be less difference in the scores between test and train score indicating the hyperparamters are not having much of an influence and the performance remains almost the same. \n",
    "Now we will load the results to the disk so that it can be used later."
   ]
  },
  {
   "cell_type": "code",
   "execution_count": 172,
   "id": "35cd7315",
   "metadata": {},
   "outputs": [
    {
     "data": {
      "text/plain": [
       "['models/svm-rbf-clf.joblib']"
      ]
     },
     "execution_count": 172,
     "metadata": {},
     "output_type": "execute_result"
    }
   ],
   "source": [
    "import os\n",
    "from joblib import dump\n",
    "\n",
    "# create a folder where all trained models will be kept\n",
    "if not os.path.exists(\"models\"):\n",
    "    os.makedirs(\"models\")\n",
    "    \n",
    "dump(grid_search.best_estimator_, 'models/svm-rbf-clf.joblib')"
   ]
  },
  {
   "cell_type": "markdown",
   "id": "0bf573e8",
   "metadata": {},
   "source": [
    "### 6.2.2 Testing the model"
   ]
  },
  {
   "cell_type": "code",
   "execution_count": 173,
   "id": "70b14f44",
   "metadata": {},
   "outputs": [
    {
     "name": "stdout",
     "output_type": "stream",
     "text": [
      "SVM:\n",
      "Precision: 0.3507557660181882\n",
      "Recall: 0.39691900176478745\n",
      "F score: 0.2855312606826163\n",
      "\n",
      "Accuracy: 0.46\n",
      "\n"
     ]
    }
   ],
   "source": [
    "# svm\n",
    "best_svm = load(\"models/svm-rbf-clf.joblib\")\n",
    "yhat = best_svm.predict(Xtest)\n",
    "\n",
    "# micro-averaged precision, recall and f-score\n",
    "p, r, f, s = precision_recall_fscore_support(Ytest, yhat, average=\"macro\")\n",
    "print(\"SVM:\")\n",
    "print(f\"Precision: {p}\")\n",
    "print(f\"Recall: {r}\")\n",
    "print(f\"F score: {f}\")\n",
    "print('\\nAccuracy: {:.2f}\\n'.format(accuracy_score(Ytest, yhat)))"
   ]
  },
  {
   "cell_type": "code",
   "execution_count": 174,
   "id": "94e03214",
   "metadata": {},
   "outputs": [
    {
     "name": "stdout",
     "output_type": "stream",
     "text": [
      "[[ 108   31   73]\n",
      " [1092  423 1171]\n",
      " [4233 1759 6592]]\n"
     ]
    }
   ],
   "source": [
    "# Printing confusion matrix\n",
    "from sklearn.metrics import confusion_matrix\n",
    "confusion_matrix2 = confusion_matrix(Ytest, yhat)\n",
    "print(confusion_matrix2)"
   ]
  },
  {
   "cell_type": "code",
   "execution_count": 175,
   "id": "5c3c81cd",
   "metadata": {},
   "outputs": [
    {
     "data": {
      "text/plain": [
       "<sklearn.metrics._plot.confusion_matrix.ConfusionMatrixDisplay at 0x28f909dadf0>"
      ]
     },
     "execution_count": 175,
     "metadata": {},
     "output_type": "execute_result"
    },
    {
     "data": {
      "image/png": "[encoded data removed]",
      "text/plain": [
       "<Figure size 432x288 with 2 Axes>"
      ]
     },
     "metadata": {
      "needs_background": "light"
     },
     "output_type": "display_data"
    }
   ],
   "source": [
    "# Plotting the confusion matrix\n",
    "from sklearn.metrics import ConfusionMatrixDisplay\n",
    "\n",
    "ConfusionMatrixDisplay.from_predictions(Ytest, yhat, labels=best_svm.classes_, \n",
    "                                        xticks_rotation=\"vertical\", normalize=\"true\",\n",
    "                                        cmap=plt.cm.Blues)"
   ]
  },
  {
   "cell_type": "markdown",
   "id": "7f49cd34",
   "metadata": {},
   "source": [
    "From the confusion matrix we can see that the SVM model performs differently from the RF model. SVM model is better at predicting Fatal accident_severity but less accurate with Slight and serious accident_severity."
   ]
  },
  {
   "cell_type": "markdown",
   "id": "46625173",
   "metadata": {},
   "source": [
    "## 6.3 Decision Tree Classifier"
   ]
  },
  {
   "cell_type": "markdown",
   "id": "5d48fab0",
   "metadata": {},
   "source": [
    "### 6.3.1 Training the model"
   ]
  },
  {
   "cell_type": "code",
   "execution_count": 176,
   "id": "a3395970",
   "metadata": {},
   "outputs": [
    {
     "name": "stdout",
     "output_type": "stream",
     "text": [
      "Took 41.33636546134949 seconds\n"
     ]
    }
   ],
   "source": [
    "from sklearn.tree import DecisionTreeClassifier\n",
    "\n",
    "decisiontree = DecisionTreeClassifier(random_state=42)\n",
    "\n",
    "# specify the hyperparameters and their values\n",
    "# 4 x 2 = 8 combinations in the grid\n",
    "param_grid = {\n",
    "    'max_depth': [5, 15,24,25],\n",
    "    'min_samples_split': [5, 10]\n",
    "}\n",
    "\n",
    "# we'll use 5-fold cross-validation\n",
    "grid_search = GridSearchCV(decisiontree, param_grid, cv=5,\n",
    "                           scoring='f1_macro', \n",
    "                           return_train_score=True) \n",
    "\n",
    "start = time.time()\n",
    "grid_search.fit(Xtrain, Ytrain)\n",
    "end = time.time() - start\n",
    "print(f\"Took {end} seconds\")"
   ]
  },
  {
   "cell_type": "code",
   "execution_count": 177,
   "id": "85598929",
   "metadata": {},
   "outputs": [
    {
     "data": {
      "text/plain": [
       "DecisionTreeClassifier(max_depth=25, min_samples_split=5, random_state=42)"
      ]
     },
     "execution_count": 177,
     "metadata": {},
     "output_type": "execute_result"
    }
   ],
   "source": [
    "grid_search.best_estimator_"
   ]
  },
  {
   "cell_type": "code",
   "execution_count": 178,
   "id": "6ca69ec9",
   "metadata": {},
   "outputs": [
    {
     "data": {
      "text/plain": [
       "0.8773893391370315"
      ]
     },
     "execution_count": 178,
     "metadata": {},
     "output_type": "execute_result"
    }
   ],
   "source": [
    "grid_search.best_score_"
   ]
  },
  {
   "cell_type": "markdown",
   "id": "c82dc3ad",
   "metadata": {},
   "source": [
    "We can see that the best f-score produced for Decision tree classifier model is 0.877 with max_depth=25. This model also outperforms the baseline model.Now let's find the index of the best performing model."
   ]
  },
  {
   "cell_type": "code",
   "execution_count": 158,
   "id": "9667a63c",
   "metadata": {},
   "outputs": [
    {
     "data": {
      "text/plain": [
       "6"
      ]
     },
     "execution_count": 158,
     "metadata": {},
     "output_type": "execute_result"
    }
   ],
   "source": [
    "best_model_index = grid_search.cv_results_[\"rank_test_score\"].tolist().index(1)\n",
    "best_model_index"
   ]
  },
  {
   "cell_type": "code",
   "execution_count": 179,
   "id": "340e3717",
   "metadata": {},
   "outputs": [],
   "source": [
    "dct_split_test_scores = []\n",
    "for x in range(5):\n",
    "    # extract f-score of the best model (index='best_model_index') from each of the 5 splits\n",
    "    val = grid_search.cv_results_[f\"split{x}_test_score\"][best_model_index]\n",
    "    dct_split_test_scores.append(val)"
   ]
  },
  {
   "cell_type": "code",
   "execution_count": 180,
   "id": "117bd507",
   "metadata": {},
   "outputs": [
    {
     "data": {
      "text/html": [
       "<div>\n",
       "<style scoped>\n",
       "    .dataframe tbody tr th:only-of-type {\n",
       "        vertical-align: middle;\n",
       "    }\n",
       "\n",
       "    .dataframe tbody tr th {\n",
       "        vertical-align: top;\n",
       "    }\n",
       "\n",
       "    .dataframe thead th {\n",
       "        text-align: right;\n",
       "    }\n",
       "</style>\n",
       "<table border=\"1\" class=\"dataframe\">\n",
       "  <thead>\n",
       "    <tr style=\"text-align: right;\">\n",
       "      <th></th>\n",
       "      <th>params</th>\n",
       "      <th>mean_train_score</th>\n",
       "      <th>mean_test_score</th>\n",
       "      <th>diff, %</th>\n",
       "    </tr>\n",
       "  </thead>\n",
       "  <tbody>\n",
       "    <tr>\n",
       "      <th>6</th>\n",
       "      <td>{'max_depth': 25, 'min_samples_split': 5}</td>\n",
       "      <td>0.955618</td>\n",
       "      <td>0.877389</td>\n",
       "      <td>8.186142</td>\n",
       "    </tr>\n",
       "    <tr>\n",
       "      <th>4</th>\n",
       "      <td>{'max_depth': 24, 'min_samples_split': 5}</td>\n",
       "      <td>0.945199</td>\n",
       "      <td>0.868537</td>\n",
       "      <td>8.110702</td>\n",
       "    </tr>\n",
       "    <tr>\n",
       "      <th>7</th>\n",
       "      <td>{'max_depth': 25, 'min_samples_split': 10}</td>\n",
       "      <td>0.926860</td>\n",
       "      <td>0.851258</td>\n",
       "      <td>8.156850</td>\n",
       "    </tr>\n",
       "    <tr>\n",
       "      <th>5</th>\n",
       "      <td>{'max_depth': 24, 'min_samples_split': 10}</td>\n",
       "      <td>0.918394</td>\n",
       "      <td>0.844036</td>\n",
       "      <td>8.096526</td>\n",
       "    </tr>\n",
       "    <tr>\n",
       "      <th>2</th>\n",
       "      <td>{'max_depth': 15, 'min_samples_split': 5}</td>\n",
       "      <td>0.712268</td>\n",
       "      <td>0.673310</td>\n",
       "      <td>5.469659</td>\n",
       "    </tr>\n",
       "    <tr>\n",
       "      <th>3</th>\n",
       "      <td>{'max_depth': 15, 'min_samples_split': 10}</td>\n",
       "      <td>0.707352</td>\n",
       "      <td>0.668810</td>\n",
       "      <td>5.448694</td>\n",
       "    </tr>\n",
       "    <tr>\n",
       "      <th>0</th>\n",
       "      <td>{'max_depth': 5, 'min_samples_split': 5}</td>\n",
       "      <td>0.426355</td>\n",
       "      <td>0.423620</td>\n",
       "      <td>0.641592</td>\n",
       "    </tr>\n",
       "    <tr>\n",
       "      <th>1</th>\n",
       "      <td>{'max_depth': 5, 'min_samples_split': 10}</td>\n",
       "      <td>0.426355</td>\n",
       "      <td>0.423620</td>\n",
       "      <td>0.641592</td>\n",
       "    </tr>\n",
       "  </tbody>\n",
       "</table>\n",
       "</div>"
      ],
      "text/plain": [
       "                                       params  mean_train_score  \\\n",
       "6   {'max_depth': 25, 'min_samples_split': 5}          0.955618   \n",
       "4   {'max_depth': 24, 'min_samples_split': 5}          0.945199   \n",
       "7  {'max_depth': 25, 'min_samples_split': 10}          0.926860   \n",
       "5  {'max_depth': 24, 'min_samples_split': 10}          0.918394   \n",
       "2   {'max_depth': 15, 'min_samples_split': 5}          0.712268   \n",
       "3  {'max_depth': 15, 'min_samples_split': 10}          0.707352   \n",
       "0    {'max_depth': 5, 'min_samples_split': 5}          0.426355   \n",
       "1   {'max_depth': 5, 'min_samples_split': 10}          0.426355   \n",
       "\n",
       "   mean_test_score   diff, %  \n",
       "6         0.877389  8.186142  \n",
       "4         0.868537  8.110702  \n",
       "7         0.851258  8.156850  \n",
       "5         0.844036  8.096526  \n",
       "2         0.673310  5.469659  \n",
       "3         0.668810  5.448694  \n",
       "0         0.423620  0.641592  \n",
       "1         0.423620  0.641592  "
      ]
     },
     "execution_count": 180,
     "metadata": {},
     "output_type": "execute_result"
    }
   ],
   "source": [
    "# creating a new dataframe with all the results of hyperparamters and the train test scores\n",
    "cv_results = pd.DataFrame(grid_search.cv_results_)[['params', 'mean_train_score', 'mean_test_score']]\n",
    "cv_results[\"diff, %\"] = 100*(cv_results[\"mean_train_score\"]-cv_results[\"mean_test_score\"]\n",
    "                                                     )/cv_results[\"mean_train_score\"]\n",
    "\n",
    "pd.set_option('display.max_colwidth', 100)\n",
    "cv_results.sort_values('mean_test_score', ascending=False)"
   ]
  },
  {
   "cell_type": "markdown",
   "id": "78b1eb6f",
   "metadata": {},
   "source": [
    "At max_depth=25, the training scores are very high, but there seems to be slight evidence of overfitting with the test scores lower by 8 percentage points at higher depths. Like RF model, the scores improve as the max_depth increases."
   ]
  },
  {
   "cell_type": "code",
   "execution_count": 114,
   "id": "41392f68",
   "metadata": {},
   "outputs": [
    {
     "name": "stdout",
     "output_type": "stream",
     "text": [
      "age_of_driver: 0.25167739130311295\n",
      "engine_capacity_cc: 0.24804574319103292\n",
      "age_of_vehicle: 0.21527341041573347\n",
      "Male: 0.026896824766144228\n",
      "South-west: 0.02278431254799285\n",
      "Less deprived 40-50%: 0.02255637129246099\n",
      "Petrol: 0.021948261095157223\n",
      "Less deprived 20-30%: 0.02170194885686284\n",
      "More deprived 20-30%: 0.021191905025146465\n",
      "More deprived 40-50%: 0.020203510034277974\n",
      "More deprived 30-40%: 0.019452146332421098\n",
      "Less deprived 30-40%: 0.01894491038856283\n",
      "Less deprived 10-20%: 0.017217253626192072\n",
      "South-east: 0.015559275066757028\n",
      "More deprived 10-20%: 0.01421748229075113\n",
      "Most deprived 10%: 0.012657672296376566\n",
      "Small town: 0.012398573091620107\n",
      "Urban area: 0.010229431270341231\n",
      "Hybrid: 0.004821238135581323\n",
      "Other_gender: 0.0022223389734745006\n"
     ]
    }
   ],
   "source": [
    "# put them into a separate variable for convenience\n",
    "feature_importances = grid_search.best_estimator_.feature_importances_\n",
    "\n",
    "# the order of the features in `feature_importances` is the same as in the Xtrain dataframe,\n",
    "# so we can \"zip\" the two and print in the descending order:\n",
    "\n",
    "for k, v in sorted(zip(feature_importances, Xtrain.columns), reverse=True):\n",
    "    print(f\"{v}: {k}\")"
   ]
  },
  {
   "cell_type": "markdown",
   "id": "b6ad7e88",
   "metadata": {},
   "source": [
    "We can see here that the most important predictors are age_of_driver,engine_capacity_cc and age_of_vehicle after which there is a massive drop-off in feature importance. Now we will load the results into a disk so that it can be used later."
   ]
  },
  {
   "cell_type": "code",
   "execution_count": 181,
   "id": "f890ba3d",
   "metadata": {},
   "outputs": [
    {
     "data": {
      "text/plain": [
       "['models/dct-clf.joblib']"
      ]
     },
     "execution_count": 181,
     "metadata": {},
     "output_type": "execute_result"
    }
   ],
   "source": [
    "import os\n",
    "from joblib import dump\n",
    "\n",
    "# create a folder where all trained models will be kept\n",
    "if not os.path.exists(\"models\"):\n",
    "    os.makedirs(\"models\")\n",
    "    \n",
    "dump(grid_search.best_estimator_, 'models/dct-clf.joblib')"
   ]
  },
  {
   "cell_type": "markdown",
   "id": "fd5e3f03",
   "metadata": {},
   "source": [
    "### 6.3.2 Testing the model"
   ]
  },
  {
   "cell_type": "code",
   "execution_count": 182,
   "id": "61925233",
   "metadata": {},
   "outputs": [
    {
     "name": "stdout",
     "output_type": "stream",
     "text": [
      "Decision Tree:\n",
      "Precision: 0.3292719989148561\n",
      "Recall: 0.3271931076641416\n",
      "F score: 0.3256991240147376\n",
      "\n",
      "Accuracy: 0.64\n",
      "\n"
     ]
    }
   ],
   "source": [
    "from joblib import load\n",
    "\n",
    "best_dct = load(\"models/dct-clf.joblib\")\n",
    "from sklearn.metrics import precision_recall_fscore_support\n",
    "\n",
    "# dct\n",
    "yhat = best_dct.predict(Xtest)\n",
    "\n",
    "# micro-averaged precision, recall and f-score\n",
    "p, r, f, s = precision_recall_fscore_support(Ytest, yhat, average=\"macro\")\n",
    "print(\"Decision Tree:\")\n",
    "print(f\"Precision: {p}\")\n",
    "print(f\"Recall: {r}\")\n",
    "print(f\"F score: {f}\")\n",
    "print('\\nAccuracy: {:.2f}\\n'.format(accuracy_score(Ytest, yhat)))"
   ]
  },
  {
   "cell_type": "code",
   "execution_count": 183,
   "id": "bb4c50f2",
   "metadata": {},
   "outputs": [
    {
     "name": "stdout",
     "output_type": "stream",
     "text": [
      "[[   4   50  158]\n",
      " [  85  604 1997]\n",
      " [ 327 2972 9285]]\n"
     ]
    }
   ],
   "source": [
    "# Printing confusion matrix\n",
    "from sklearn.metrics import confusion_matrix\n",
    "confusion_matrix3 = confusion_matrix(Ytest, yhat)\n",
    "print(confusion_matrix3)"
   ]
  },
  {
   "cell_type": "code",
   "execution_count": 184,
   "id": "aec07f96",
   "metadata": {},
   "outputs": [
    {
     "data": {
      "text/plain": [
       "<sklearn.metrics._plot.confusion_matrix.ConfusionMatrixDisplay at 0x28fd05a38b0>"
      ]
     },
     "execution_count": 184,
     "metadata": {},
     "output_type": "execute_result"
    },
    {
     "data": {
      "image/png": "[encoded data removed]",
      "text/plain": [
       "<Figure size 432x288 with 2 Axes>"
      ]
     },
     "metadata": {
      "needs_background": "light"
     },
     "output_type": "display_data"
    }
   ],
   "source": [
    "# Plotting the confusion matrix\n",
    "from sklearn.metrics import ConfusionMatrixDisplay\n",
    "\n",
    "ConfusionMatrixDisplay.from_predictions(Ytest, yhat, labels=best_dct.classes_, \n",
    "                                        xticks_rotation=\"vertical\", normalize=\"true\",\n",
    "                                        cmap=plt.cm.Blues)"
   ]
  },
  {
   "cell_type": "markdown",
   "id": "2e09bbbe",
   "metadata": {},
   "source": [
    "From the confusion matrix we can see that the model can correctly predict 74% of slight accident_severity. Just like random forest, majority of the serious and fatal accident_severity are classified as slight which doesn't help our case. Only 22% of serious accident_severity were predicted as serious. "
   ]
  },
  {
   "cell_type": "markdown",
   "id": "1937d189",
   "metadata": {},
   "source": [
    "## 7. Comparison of models and conclusions"
   ]
  },
  {
   "cell_type": "markdown",
   "id": "f6443aa3",
   "metadata": {},
   "source": [
    "#### Comparison of models:\n",
    "In terms of Execution Speed: Decision Tree classifier took the least time of 41 seconds followed by Random forest which took ~2000 seconds. SVM took more than ~3600 seconds to run.\n",
    "<br>In terms of Accuracy: Random forest outperforms both Decision Tree and SVM. Random forest:73% ; SVM: 46% ; Decision Tree classifier: 64% \n",
    "<br>In terms of Precision, Recall, F-score: Random forest has better scores compared to SVM and Decision tree.\n",
    "<br> In both RF and DCT models, the most important predictors are age_of_driver,engine_capacity_cc and age_of_vehicle and the other attributes do not contribute much to the prediction.\n"
   ]
  },
  {
   "cell_type": "markdown",
   "id": "8dfdea6b",
   "metadata": {},
   "source": [
    "#### Conclusions\n",
    "All the 3 models performs better when we have to predict slight accident_severity accidents. But to have a really good model, we should be able to predict the fatal and serious accident_severity with good accuracy. The current models fails in that aspect. Most of the serious and fatal accident_severity are wrongly predicted as fatal which doesn't help with the car insurance company.\n",
    "<br> After performing data cleaning and outlier treatments in the group phase, there was only around ~75k rows left for training and testing. That much data was not enough and the quality of data was also not that great which had impacted the performance of the models to a great extent."
   ]
  },
  {
   "cell_type": "markdown",
   "id": "f0bcb559",
   "metadata": {},
   "source": [
    "## 8.1 Possible future improvements"
   ]
  },
  {
   "cell_type": "markdown",
   "id": "e3289167",
   "metadata": {},
   "source": [
    "1) Training and testing the model on 2019 and 2021 data might help us build a better model since it might have more data compared to 2020 because of Covid pandemic and lockdowns. \n",
    "<br> 2) To improve the performance of models, there is need for good quality data which will help to train the models even better.\n",
    "<br> 3) There were only 3 predictors which mainly influenced the target variable. Feature engineering can be done in a even more effective way to come up with new predictors which have good correlation with accident_severity.\n",
    "<br> 4) Having a more diverse and balanced data can help build a relatively better model.\n",
    "<br> 5) We can try looking at the accident data for a different country and see which factors influence the most and come up with similar features and improve the model."
   ]
  },
  {
   "cell_type": "markdown",
   "id": "8d45a383",
   "metadata": {},
   "source": [
    "## 8.2 Real World Implementation of the models"
   ]
  },
  {
   "cell_type": "markdown",
   "id": "276243ab",
   "metadata": {},
   "source": [
    "As the models efficiency is not good in predicting serious and fatal accident_severity, it can be used for identfying and predicting the chances of slight accident_severity cases with better accuracy. For implementing it in real world, a lot of improvement in terms of amount and quality of data along with performance is required."
   ]
  },
  {
   "cell_type": "markdown",
   "id": "122fa017",
   "metadata": {},
   "source": [
    "## Word Count"
   ]
  },
  {
   "cell_type": "code",
   "execution_count": 199,
   "id": "8ef442b3",
   "metadata": {},
   "outputs": [
    {
     "data": {
      "application/javascript": [
       "var nb = IPython.notebook;\n",
       "var kernel = IPython.notebook.kernel;\n",
       "var command = \"NOTEBOOK_FULL_PATH = '\" + nb.notebook_path + \"'\";\n",
       "kernel.execute(command);\n"
      ],
      "text/plain": [
       "<IPython.core.display.Javascript object>"
      ]
     },
     "metadata": {},
     "output_type": "display_data"
    }
   ],
   "source": [
    "%%javascript\n",
    "var nb = IPython.notebook;\n",
    "var kernel = IPython.notebook.kernel;\n",
    "var command = \"NOTEBOOK_FULL_PATH = '\" + nb.notebook_path + \"'\";\n",
    "kernel.execute(command);"
   ]
  },
  {
   "cell_type": "code",
   "execution_count": 200,
   "id": "e8b5898a",
   "metadata": {},
   "outputs": [
    {
     "name": "stdout",
     "output_type": "stream",
     "text": [
      "Word count: 1737\n"
     ]
    }
   ],
   "source": [
    "import io\n",
    "from nbformat import read, NO_CONVERT\n",
    "\n",
    "with io.open(NOTEBOOK_FULL_PATH.split(\"/\")[-1], 'r', encoding='utf-8') as f:\n",
    "    nb = read(f, NO_CONVERT)\n",
    "\n",
    "word_count = 0\n",
    "for cell in nb.cells:\n",
    "    if cell.cell_type == \"markdown\":\n",
    "        word_count += len(cell['source'].replace('#', '').lstrip().split(' '))\n",
    "print(f\"Word count: {word_count}\")"
   ]
  },
  {
   "cell_type": "code",
   "execution_count": null,
   "id": "2acf3020",
   "metadata": {},
   "outputs": [],
   "source": []
  }
 ],
 "metadata": {
  "kernelspec": {
   "display_name": "Python 3 (ipykernel)",
   "language": "python",
   "name": "python3"
  },
  "language_info": {
   "codemirror_mode": {
    "name": "ipython",
    "version": 3
   },
   "file_extension": ".py",
   "mimetype": "text/x-python",
   "name": "python",
   "nbconvert_exporter": "python",
   "pygments_lexer": "ipython3",
   "version": "3.9.12"
  }
 },
 "nbformat": 4,
 "nbformat_minor": 5
}
